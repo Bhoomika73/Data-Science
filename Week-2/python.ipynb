{
 "metadata": {
  "language_info": {
   "codemirror_mode": {
    "name": "ipython",
    "version": 3
   },
   "file_extension": ".py",
   "mimetype": "text/x-python",
   "name": "python",
   "nbconvert_exporter": "python",
   "pygments_lexer": "ipython3",
   "version": "3.8.1-final"
  },
  "orig_nbformat": 2,
  "kernelspec": {
   "name": "python3",
   "display_name": "Python 3.8.1 64-bit",
   "metadata": {
    "interpreter": {
     "hash": "e404b59586357c814bc0d3940e75d6763c00a48753b225b81f7716971b8e1741"
    }
   }
  }
 },
 "nbformat": 4,
 "nbformat_minor": 2,
 "cells": [
  {
   "cell_type": "code",
   "execution_count": null,
   "metadata": {},
   "outputs": [],
   "source": [
    "#Microtask-1 How many features are there in the dataset?"
   ]
  },
  {
   "cell_type": "code",
   "execution_count": 2,
   "metadata": {},
   "outputs": [
    {
     "output_type": "execute_result",
     "data": {
      "text/plain": [
       "              Open     High      Low    Close      Volume  Dividend  Split  \\\n",
       "Date                                                                         \n",
       "2013-09-03  493.10  500.600  487.350  488.580  11854600.0       0.0    1.0   \n",
       "2013-09-04  499.56  502.240  496.280  498.691  12322600.0       0.0    1.0   \n",
       "2013-09-05  500.25  500.680  493.640  495.270   8441700.0       0.0    1.0   \n",
       "2013-09-06  498.44  499.380  489.950  498.220  12840200.0       0.0    1.0   \n",
       "2013-09-09  505.00  507.920  503.480  506.170  12167400.0       0.0    1.0   \n",
       "...            ...      ...      ...      ...         ...       ...    ...   \n",
       "2017-12-21  174.17  176.020  174.100  175.010  20949896.0       0.0    1.0   \n",
       "2017-12-22  174.68  175.424  174.500  175.010  16349444.0       0.0    1.0   \n",
       "2017-12-26  170.80  171.470  169.679  170.570  33185536.0       0.0    1.0   \n",
       "2017-12-27  170.10  170.780  169.710  170.600  21498213.0       0.0    1.0   \n",
       "2017-12-28  171.00  171.850  170.480  171.080  16480187.0       0.0    1.0   \n",
       "\n",
       "             Adj_Open   Adj_High    Adj_Low  Adj_Close   Adj_Volume  \n",
       "Date                                                                 \n",
       "2013-09-03  15.619650  15.857223  15.437510  15.476472  331928800.0  \n",
       "2013-09-04  15.824280  15.909173  15.720381  15.796753  345032800.0  \n",
       "2013-09-05  15.846136  15.859757  15.636755  15.688388  236367600.0  \n",
       "2013-09-06  15.788802  15.818578  15.519869  15.781833  359525600.0  \n",
       "2013-09-09  15.996600  16.089095  15.948451  16.033661  340687200.0  \n",
       "...               ...        ...        ...        ...          ...  \n",
       "2017-12-21  41.899570  42.344619  41.882730  42.101646   83799584.0  \n",
       "2017-12-22  42.022259  42.201241  41.978957  42.101646   65397776.0  \n",
       "2017-12-26  41.088858  41.250038  40.819183  41.033528  132742144.0  \n",
       "2017-12-27  40.920461  41.084047  40.826640  41.040745   85992852.0  \n",
       "2017-12-28  41.136972  41.341454  41.011877  41.156217   65920748.0  \n",
       "\n",
       "[1090 rows x 12 columns]"
      ],
      "text/html": "<div>\n<style scoped>\n    .dataframe tbody tr th:only-of-type {\n        vertical-align: middle;\n    }\n\n    .dataframe tbody tr th {\n        vertical-align: top;\n    }\n\n    .dataframe thead th {\n        text-align: right;\n    }\n</style>\n<table border=\"1\" class=\"dataframe\">\n  <thead>\n    <tr style=\"text-align: right;\">\n      <th></th>\n      <th>Open</th>\n      <th>High</th>\n      <th>Low</th>\n      <th>Close</th>\n      <th>Volume</th>\n      <th>Dividend</th>\n      <th>Split</th>\n      <th>Adj_Open</th>\n      <th>Adj_High</th>\n      <th>Adj_Low</th>\n      <th>Adj_Close</th>\n      <th>Adj_Volume</th>\n    </tr>\n    <tr>\n      <th>Date</th>\n      <th></th>\n      <th></th>\n      <th></th>\n      <th></th>\n      <th></th>\n      <th></th>\n      <th></th>\n      <th></th>\n      <th></th>\n      <th></th>\n      <th></th>\n      <th></th>\n    </tr>\n  </thead>\n  <tbody>\n    <tr>\n      <th>2013-09-03</th>\n      <td>493.10</td>\n      <td>500.600</td>\n      <td>487.350</td>\n      <td>488.580</td>\n      <td>11854600.0</td>\n      <td>0.0</td>\n      <td>1.0</td>\n      <td>15.619650</td>\n      <td>15.857223</td>\n      <td>15.437510</td>\n      <td>15.476472</td>\n      <td>331928800.0</td>\n    </tr>\n    <tr>\n      <th>2013-09-04</th>\n      <td>499.56</td>\n      <td>502.240</td>\n      <td>496.280</td>\n      <td>498.691</td>\n      <td>12322600.0</td>\n      <td>0.0</td>\n      <td>1.0</td>\n      <td>15.824280</td>\n      <td>15.909173</td>\n      <td>15.720381</td>\n      <td>15.796753</td>\n      <td>345032800.0</td>\n    </tr>\n    <tr>\n      <th>2013-09-05</th>\n      <td>500.25</td>\n      <td>500.680</td>\n      <td>493.640</td>\n      <td>495.270</td>\n      <td>8441700.0</td>\n      <td>0.0</td>\n      <td>1.0</td>\n      <td>15.846136</td>\n      <td>15.859757</td>\n      <td>15.636755</td>\n      <td>15.688388</td>\n      <td>236367600.0</td>\n    </tr>\n    <tr>\n      <th>2013-09-06</th>\n      <td>498.44</td>\n      <td>499.380</td>\n      <td>489.950</td>\n      <td>498.220</td>\n      <td>12840200.0</td>\n      <td>0.0</td>\n      <td>1.0</td>\n      <td>15.788802</td>\n      <td>15.818578</td>\n      <td>15.519869</td>\n      <td>15.781833</td>\n      <td>359525600.0</td>\n    </tr>\n    <tr>\n      <th>2013-09-09</th>\n      <td>505.00</td>\n      <td>507.920</td>\n      <td>503.480</td>\n      <td>506.170</td>\n      <td>12167400.0</td>\n      <td>0.0</td>\n      <td>1.0</td>\n      <td>15.996600</td>\n      <td>16.089095</td>\n      <td>15.948451</td>\n      <td>16.033661</td>\n      <td>340687200.0</td>\n    </tr>\n    <tr>\n      <th>...</th>\n      <td>...</td>\n      <td>...</td>\n      <td>...</td>\n      <td>...</td>\n      <td>...</td>\n      <td>...</td>\n      <td>...</td>\n      <td>...</td>\n      <td>...</td>\n      <td>...</td>\n      <td>...</td>\n      <td>...</td>\n    </tr>\n    <tr>\n      <th>2017-12-21</th>\n      <td>174.17</td>\n      <td>176.020</td>\n      <td>174.100</td>\n      <td>175.010</td>\n      <td>20949896.0</td>\n      <td>0.0</td>\n      <td>1.0</td>\n      <td>41.899570</td>\n      <td>42.344619</td>\n      <td>41.882730</td>\n      <td>42.101646</td>\n      <td>83799584.0</td>\n    </tr>\n    <tr>\n      <th>2017-12-22</th>\n      <td>174.68</td>\n      <td>175.424</td>\n      <td>174.500</td>\n      <td>175.010</td>\n      <td>16349444.0</td>\n      <td>0.0</td>\n      <td>1.0</td>\n      <td>42.022259</td>\n      <td>42.201241</td>\n      <td>41.978957</td>\n      <td>42.101646</td>\n      <td>65397776.0</td>\n    </tr>\n    <tr>\n      <th>2017-12-26</th>\n      <td>170.80</td>\n      <td>171.470</td>\n      <td>169.679</td>\n      <td>170.570</td>\n      <td>33185536.0</td>\n      <td>0.0</td>\n      <td>1.0</td>\n      <td>41.088858</td>\n      <td>41.250038</td>\n      <td>40.819183</td>\n      <td>41.033528</td>\n      <td>132742144.0</td>\n    </tr>\n    <tr>\n      <th>2017-12-27</th>\n      <td>170.10</td>\n      <td>170.780</td>\n      <td>169.710</td>\n      <td>170.600</td>\n      <td>21498213.0</td>\n      <td>0.0</td>\n      <td>1.0</td>\n      <td>40.920461</td>\n      <td>41.084047</td>\n      <td>40.826640</td>\n      <td>41.040745</td>\n      <td>85992852.0</td>\n    </tr>\n    <tr>\n      <th>2017-12-28</th>\n      <td>171.00</td>\n      <td>171.850</td>\n      <td>170.480</td>\n      <td>171.080</td>\n      <td>16480187.0</td>\n      <td>0.0</td>\n      <td>1.0</td>\n      <td>41.136972</td>\n      <td>41.341454</td>\n      <td>41.011877</td>\n      <td>41.156217</td>\n      <td>65920748.0</td>\n    </tr>\n  </tbody>\n</table>\n<p>1090 rows × 12 columns</p>\n</div>"
     },
     "metadata": {},
     "execution_count": 2
    }
   ],
   "source": [
    "import pandas as pd\n",
    "import quandl\n",
    "quandl.ApiConfig.api_key = \"pNreTUCxWzu6sKzA6J_s\"\n",
    "df = quandl.get(\"EOD/AAPL\")\n",
    "df"
   ]
  },
  {
   "cell_type": "code",
   "execution_count": 3,
   "metadata": {},
   "outputs": [
    {
     "output_type": "execute_result",
     "data": {
      "text/plain": [
       "12"
      ]
     },
     "metadata": {},
     "execution_count": 3
    }
   ],
   "source": [
    "len(df.columns)"
   ]
  },
  {
   "cell_type": "code",
   "execution_count": 5,
   "metadata": {},
   "outputs": [],
   "source": [
    "df = df[['Adj_High',  'Adj_Low',  'Adj_Open',  'Adj_Close', 'Adj_Volume']]\n",
    "df['HL_PCT'] = (df['Adj_High'] - df['Adj_Low']) / df['Adj_Close'] * 100.0\n",
    "df['PCT_change'] = (df['Adj_Close'] - df['Adj_Open']) / df['Adj_Open'] * 100.0"
   ]
  },
  {
   "cell_type": "code",
   "execution_count": 7,
   "metadata": {},
   "outputs": [
    {
     "output_type": "execute_result",
     "data": {
      "text/plain": [
       "            Adj_Close  PCT_change    HL_PCT   Adj_Volume\n",
       "Date                                                    \n",
       "2013-09-03  15.476472   -0.916650  2.711941  331928800.0\n",
       "2013-09-04  15.796753   -0.173953  1.195129  345032800.0\n",
       "2013-09-05  15.688388   -0.995502  1.421447  236367600.0\n",
       "2013-09-06  15.781833   -0.044138  1.892738  359525600.0\n",
       "2013-09-09  16.033661    0.231683  0.877176  340687200.0\n",
       "...               ...         ...       ...          ...\n",
       "2017-12-21  42.101646    0.482287  1.097080   83799584.0\n",
       "2017-12-22  42.101646    0.188917  0.527970   65397776.0\n",
       "2017-12-26  41.033528   -0.134660  1.050009  132742144.0\n",
       "2017-12-27  41.040745    0.293945  0.627198   85992852.0\n",
       "2017-12-28  41.156217    0.046784  0.800795   65920748.0\n",
       "\n",
       "[1090 rows x 4 columns]"
      ],
      "text/html": "<div>\n<style scoped>\n    .dataframe tbody tr th:only-of-type {\n        vertical-align: middle;\n    }\n\n    .dataframe tbody tr th {\n        vertical-align: top;\n    }\n\n    .dataframe thead th {\n        text-align: right;\n    }\n</style>\n<table border=\"1\" class=\"dataframe\">\n  <thead>\n    <tr style=\"text-align: right;\">\n      <th></th>\n      <th>Adj_Close</th>\n      <th>PCT_change</th>\n      <th>HL_PCT</th>\n      <th>Adj_Volume</th>\n    </tr>\n    <tr>\n      <th>Date</th>\n      <th></th>\n      <th></th>\n      <th></th>\n      <th></th>\n    </tr>\n  </thead>\n  <tbody>\n    <tr>\n      <th>2013-09-03</th>\n      <td>15.476472</td>\n      <td>-0.916650</td>\n      <td>2.711941</td>\n      <td>331928800.0</td>\n    </tr>\n    <tr>\n      <th>2013-09-04</th>\n      <td>15.796753</td>\n      <td>-0.173953</td>\n      <td>1.195129</td>\n      <td>345032800.0</td>\n    </tr>\n    <tr>\n      <th>2013-09-05</th>\n      <td>15.688388</td>\n      <td>-0.995502</td>\n      <td>1.421447</td>\n      <td>236367600.0</td>\n    </tr>\n    <tr>\n      <th>2013-09-06</th>\n      <td>15.781833</td>\n      <td>-0.044138</td>\n      <td>1.892738</td>\n      <td>359525600.0</td>\n    </tr>\n    <tr>\n      <th>2013-09-09</th>\n      <td>16.033661</td>\n      <td>0.231683</td>\n      <td>0.877176</td>\n      <td>340687200.0</td>\n    </tr>\n    <tr>\n      <th>...</th>\n      <td>...</td>\n      <td>...</td>\n      <td>...</td>\n      <td>...</td>\n    </tr>\n    <tr>\n      <th>2017-12-21</th>\n      <td>42.101646</td>\n      <td>0.482287</td>\n      <td>1.097080</td>\n      <td>83799584.0</td>\n    </tr>\n    <tr>\n      <th>2017-12-22</th>\n      <td>42.101646</td>\n      <td>0.188917</td>\n      <td>0.527970</td>\n      <td>65397776.0</td>\n    </tr>\n    <tr>\n      <th>2017-12-26</th>\n      <td>41.033528</td>\n      <td>-0.134660</td>\n      <td>1.050009</td>\n      <td>132742144.0</td>\n    </tr>\n    <tr>\n      <th>2017-12-27</th>\n      <td>41.040745</td>\n      <td>0.293945</td>\n      <td>0.627198</td>\n      <td>85992852.0</td>\n    </tr>\n    <tr>\n      <th>2017-12-28</th>\n      <td>41.156217</td>\n      <td>0.046784</td>\n      <td>0.800795</td>\n      <td>65920748.0</td>\n    </tr>\n  </tbody>\n</table>\n<p>1090 rows × 4 columns</p>\n</div>"
     },
     "metadata": {},
     "execution_count": 7
    }
   ],
   "source": [
    "df1 = df[['Adj_Close', 'PCT_change', 'HL_PCT',  'Adj_Volume']]\n",
    "df1"
   ]
  },
  {
   "cell_type": "code",
   "execution_count": 12,
   "metadata": {},
   "outputs": [
    {
     "output_type": "execute_result",
     "data": {
      "text/plain": [
       "            Adj_Close  PCT_change    HL_PCT   Adj_Volume\n",
       "Date                                                    \n",
       "2013-09-03  15.476472   -0.916650  2.711941  331928800.0\n",
       "2013-09-04  15.796753   -0.173953  1.195129  345032800.0\n",
       "2013-09-05  15.688388   -0.995502  1.421447  236367600.0\n",
       "2013-09-06  15.781833   -0.044138  1.892738  359525600.0\n",
       "2013-09-09  16.033661    0.231683  0.877176  340687200.0\n",
       "...               ...         ...       ...          ...\n",
       "2017-12-21  42.101646    0.482287  1.097080   83799584.0\n",
       "2017-12-22  42.101646    0.188917  0.527970   65397776.0\n",
       "2017-12-26  41.033528   -0.134660  1.050009  132742144.0\n",
       "2017-12-27  41.040745    0.293945  0.627198   85992852.0\n",
       "2017-12-28  41.156217    0.046784  0.800795   65920748.0\n",
       "\n",
       "[1090 rows x 4 columns]"
      ],
      "text/html": "<div>\n<style scoped>\n    .dataframe tbody tr th:only-of-type {\n        vertical-align: middle;\n    }\n\n    .dataframe tbody tr th {\n        vertical-align: top;\n    }\n\n    .dataframe thead th {\n        text-align: right;\n    }\n</style>\n<table border=\"1\" class=\"dataframe\">\n  <thead>\n    <tr style=\"text-align: right;\">\n      <th></th>\n      <th>Adj_Close</th>\n      <th>PCT_change</th>\n      <th>HL_PCT</th>\n      <th>Adj_Volume</th>\n    </tr>\n    <tr>\n      <th>Date</th>\n      <th></th>\n      <th></th>\n      <th></th>\n      <th></th>\n    </tr>\n  </thead>\n  <tbody>\n    <tr>\n      <th>2013-09-03</th>\n      <td>15.476472</td>\n      <td>-0.916650</td>\n      <td>2.711941</td>\n      <td>331928800.0</td>\n    </tr>\n    <tr>\n      <th>2013-09-04</th>\n      <td>15.796753</td>\n      <td>-0.173953</td>\n      <td>1.195129</td>\n      <td>345032800.0</td>\n    </tr>\n    <tr>\n      <th>2013-09-05</th>\n      <td>15.688388</td>\n      <td>-0.995502</td>\n      <td>1.421447</td>\n      <td>236367600.0</td>\n    </tr>\n    <tr>\n      <th>2013-09-06</th>\n      <td>15.781833</td>\n      <td>-0.044138</td>\n      <td>1.892738</td>\n      <td>359525600.0</td>\n    </tr>\n    <tr>\n      <th>2013-09-09</th>\n      <td>16.033661</td>\n      <td>0.231683</td>\n      <td>0.877176</td>\n      <td>340687200.0</td>\n    </tr>\n    <tr>\n      <th>...</th>\n      <td>...</td>\n      <td>...</td>\n      <td>...</td>\n      <td>...</td>\n    </tr>\n    <tr>\n      <th>2017-12-21</th>\n      <td>42.101646</td>\n      <td>0.482287</td>\n      <td>1.097080</td>\n      <td>83799584.0</td>\n    </tr>\n    <tr>\n      <th>2017-12-22</th>\n      <td>42.101646</td>\n      <td>0.188917</td>\n      <td>0.527970</td>\n      <td>65397776.0</td>\n    </tr>\n    <tr>\n      <th>2017-12-26</th>\n      <td>41.033528</td>\n      <td>-0.134660</td>\n      <td>1.050009</td>\n      <td>132742144.0</td>\n    </tr>\n    <tr>\n      <th>2017-12-27</th>\n      <td>41.040745</td>\n      <td>0.293945</td>\n      <td>0.627198</td>\n      <td>85992852.0</td>\n    </tr>\n    <tr>\n      <th>2017-12-28</th>\n      <td>41.156217</td>\n      <td>0.046784</td>\n      <td>0.800795</td>\n      <td>65920748.0</td>\n    </tr>\n  </tbody>\n</table>\n<p>1090 rows × 4 columns</p>\n</div>"
     },
     "metadata": {},
     "execution_count": 12
    }
   ],
   "source": [
    "df2 = df1.fillna(-99999)\n",
    "df2"
   ]
  },
  {
   "cell_type": "code",
   "execution_count": 14,
   "metadata": {},
   "outputs": [
    {
     "output_type": "execute_result",
     "data": {
      "text/plain": [
       "            Adj_Close  PCT_change    HL_PCT   Adj_Volume      Label\n",
       "Date                                                               \n",
       "2013-09-03  15.476472   -0.916650  2.711941  331928800.0  15.796753\n",
       "2013-09-04  15.796753   -0.173953  1.195129  345032800.0  15.688388\n",
       "2013-09-05  15.688388   -0.995502  1.421447  236367600.0  15.781833\n",
       "2013-09-06  15.781833   -0.044138  1.892738  359525600.0  16.033661\n",
       "2013-09-09  16.033661    0.231683  0.877176  340687200.0  15.668432\n",
       "...               ...         ...       ...          ...        ...\n",
       "2017-12-21  42.101646    0.482287  1.097080   83799584.0  42.101646\n",
       "2017-12-22  42.101646    0.188917  0.527970   65397776.0  41.033528\n",
       "2017-12-26  41.033528   -0.134660  1.050009  132742144.0  41.040745\n",
       "2017-12-27  41.040745    0.293945  0.627198   85992852.0  41.156217\n",
       "2017-12-28  41.156217    0.046784  0.800795   65920748.0        NaN\n",
       "\n",
       "[1090 rows x 5 columns]"
      ],
      "text/html": "<div>\n<style scoped>\n    .dataframe tbody tr th:only-of-type {\n        vertical-align: middle;\n    }\n\n    .dataframe tbody tr th {\n        vertical-align: top;\n    }\n\n    .dataframe thead th {\n        text-align: right;\n    }\n</style>\n<table border=\"1\" class=\"dataframe\">\n  <thead>\n    <tr style=\"text-align: right;\">\n      <th></th>\n      <th>Adj_Close</th>\n      <th>PCT_change</th>\n      <th>HL_PCT</th>\n      <th>Adj_Volume</th>\n      <th>Label</th>\n    </tr>\n    <tr>\n      <th>Date</th>\n      <th></th>\n      <th></th>\n      <th></th>\n      <th></th>\n      <th></th>\n    </tr>\n  </thead>\n  <tbody>\n    <tr>\n      <th>2013-09-03</th>\n      <td>15.476472</td>\n      <td>-0.916650</td>\n      <td>2.711941</td>\n      <td>331928800.0</td>\n      <td>15.796753</td>\n    </tr>\n    <tr>\n      <th>2013-09-04</th>\n      <td>15.796753</td>\n      <td>-0.173953</td>\n      <td>1.195129</td>\n      <td>345032800.0</td>\n      <td>15.688388</td>\n    </tr>\n    <tr>\n      <th>2013-09-05</th>\n      <td>15.688388</td>\n      <td>-0.995502</td>\n      <td>1.421447</td>\n      <td>236367600.0</td>\n      <td>15.781833</td>\n    </tr>\n    <tr>\n      <th>2013-09-06</th>\n      <td>15.781833</td>\n      <td>-0.044138</td>\n      <td>1.892738</td>\n      <td>359525600.0</td>\n      <td>16.033661</td>\n    </tr>\n    <tr>\n      <th>2013-09-09</th>\n      <td>16.033661</td>\n      <td>0.231683</td>\n      <td>0.877176</td>\n      <td>340687200.0</td>\n      <td>15.668432</td>\n    </tr>\n    <tr>\n      <th>...</th>\n      <td>...</td>\n      <td>...</td>\n      <td>...</td>\n      <td>...</td>\n      <td>...</td>\n    </tr>\n    <tr>\n      <th>2017-12-21</th>\n      <td>42.101646</td>\n      <td>0.482287</td>\n      <td>1.097080</td>\n      <td>83799584.0</td>\n      <td>42.101646</td>\n    </tr>\n    <tr>\n      <th>2017-12-22</th>\n      <td>42.101646</td>\n      <td>0.188917</td>\n      <td>0.527970</td>\n      <td>65397776.0</td>\n      <td>41.033528</td>\n    </tr>\n    <tr>\n      <th>2017-12-26</th>\n      <td>41.033528</td>\n      <td>-0.134660</td>\n      <td>1.050009</td>\n      <td>132742144.0</td>\n      <td>41.040745</td>\n    </tr>\n    <tr>\n      <th>2017-12-27</th>\n      <td>41.040745</td>\n      <td>0.293945</td>\n      <td>0.627198</td>\n      <td>85992852.0</td>\n      <td>41.156217</td>\n    </tr>\n    <tr>\n      <th>2017-12-28</th>\n      <td>41.156217</td>\n      <td>0.046784</td>\n      <td>0.800795</td>\n      <td>65920748.0</td>\n      <td>NaN</td>\n    </tr>\n  </tbody>\n</table>\n<p>1090 rows × 5 columns</p>\n</div>"
     },
     "metadata": {},
     "execution_count": 14
    }
   ],
   "source": [
    "df2['Label'] = df2['Adj_Close'].shift(-1)\n",
    "df2"
   ]
  },
  {
   "cell_type": "code",
   "execution_count": 15,
   "metadata": {},
   "outputs": [
    {
     "output_type": "execute_result",
     "data": {
      "text/plain": [
       "            Adj_Close  PCT_change    HL_PCT   Adj_Volume      Label\n",
       "Date                                                               \n",
       "2013-09-03  15.476472   -0.916650  2.711941  331928800.0  15.796753\n",
       "2013-09-04  15.796753   -0.173953  1.195129  345032800.0  15.688388\n",
       "2013-09-05  15.688388   -0.995502  1.421447  236367600.0  15.781833\n",
       "2013-09-06  15.781833   -0.044138  1.892738  359525600.0  16.033661\n",
       "2013-09-09  16.033661    0.231683  0.877176  340687200.0  15.668432\n",
       "...               ...         ...       ...          ...        ...\n",
       "2017-12-20  41.942872   -0.297364  1.244623   93902596.0  42.101646\n",
       "2017-12-21  42.101646    0.482287  1.097080   83799584.0  42.101646\n",
       "2017-12-22  42.101646    0.188917  0.527970   65397776.0  41.033528\n",
       "2017-12-26  41.033528   -0.134660  1.050009  132742144.0  41.040745\n",
       "2017-12-27  41.040745    0.293945  0.627198   85992852.0  41.156217\n",
       "\n",
       "[1089 rows x 5 columns]"
      ],
      "text/html": "<div>\n<style scoped>\n    .dataframe tbody tr th:only-of-type {\n        vertical-align: middle;\n    }\n\n    .dataframe tbody tr th {\n        vertical-align: top;\n    }\n\n    .dataframe thead th {\n        text-align: right;\n    }\n</style>\n<table border=\"1\" class=\"dataframe\">\n  <thead>\n    <tr style=\"text-align: right;\">\n      <th></th>\n      <th>Adj_Close</th>\n      <th>PCT_change</th>\n      <th>HL_PCT</th>\n      <th>Adj_Volume</th>\n      <th>Label</th>\n    </tr>\n    <tr>\n      <th>Date</th>\n      <th></th>\n      <th></th>\n      <th></th>\n      <th></th>\n      <th></th>\n    </tr>\n  </thead>\n  <tbody>\n    <tr>\n      <th>2013-09-03</th>\n      <td>15.476472</td>\n      <td>-0.916650</td>\n      <td>2.711941</td>\n      <td>331928800.0</td>\n      <td>15.796753</td>\n    </tr>\n    <tr>\n      <th>2013-09-04</th>\n      <td>15.796753</td>\n      <td>-0.173953</td>\n      <td>1.195129</td>\n      <td>345032800.0</td>\n      <td>15.688388</td>\n    </tr>\n    <tr>\n      <th>2013-09-05</th>\n      <td>15.688388</td>\n      <td>-0.995502</td>\n      <td>1.421447</td>\n      <td>236367600.0</td>\n      <td>15.781833</td>\n    </tr>\n    <tr>\n      <th>2013-09-06</th>\n      <td>15.781833</td>\n      <td>-0.044138</td>\n      <td>1.892738</td>\n      <td>359525600.0</td>\n      <td>16.033661</td>\n    </tr>\n    <tr>\n      <th>2013-09-09</th>\n      <td>16.033661</td>\n      <td>0.231683</td>\n      <td>0.877176</td>\n      <td>340687200.0</td>\n      <td>15.668432</td>\n    </tr>\n    <tr>\n      <th>...</th>\n      <td>...</td>\n      <td>...</td>\n      <td>...</td>\n      <td>...</td>\n      <td>...</td>\n    </tr>\n    <tr>\n      <th>2017-12-20</th>\n      <td>41.942872</td>\n      <td>-0.297364</td>\n      <td>1.244623</td>\n      <td>93902596.0</td>\n      <td>42.101646</td>\n    </tr>\n    <tr>\n      <th>2017-12-21</th>\n      <td>42.101646</td>\n      <td>0.482287</td>\n      <td>1.097080</td>\n      <td>83799584.0</td>\n      <td>42.101646</td>\n    </tr>\n    <tr>\n      <th>2017-12-22</th>\n      <td>42.101646</td>\n      <td>0.188917</td>\n      <td>0.527970</td>\n      <td>65397776.0</td>\n      <td>41.033528</td>\n    </tr>\n    <tr>\n      <th>2017-12-26</th>\n      <td>41.033528</td>\n      <td>-0.134660</td>\n      <td>1.050009</td>\n      <td>132742144.0</td>\n      <td>41.040745</td>\n    </tr>\n    <tr>\n      <th>2017-12-27</th>\n      <td>41.040745</td>\n      <td>0.293945</td>\n      <td>0.627198</td>\n      <td>85992852.0</td>\n      <td>41.156217</td>\n    </tr>\n  </tbody>\n</table>\n<p>1089 rows × 5 columns</p>\n</div>"
     },
     "metadata": {},
     "execution_count": 15
    }
   ],
   "source": [
    "df3 = df2.dropna()\n",
    "df3"
   ]
  },
  {
   "cell_type": "code",
   "execution_count": 16,
   "metadata": {},
   "outputs": [
    {
     "output_type": "execute_result",
     "data": {
      "text/plain": [
       "array([[ 1.54764725e+01, -9.16649767e-01,  2.71194073e+00,\n",
       "         3.31928800e+08],\n",
       "       [ 1.57967529e+01, -1.73953079e-01,  1.19512885e+00,\n",
       "         3.45032800e+08],\n",
       "       [ 1.56883878e+01, -9.95502249e-01,  1.42144689e+00,\n",
       "         2.36367600e+08],\n",
       "       ...,\n",
       "       [ 4.21016459e+01,  1.88916877e-01,  5.27969830e-01,\n",
       "         6.53977760e+07],\n",
       "       [ 4.10335280e+01, -1.34660422e-01,  1.05000879e+00,\n",
       "         1.32742144e+08],\n",
       "       [ 4.10407450e+01,  2.93944738e-01,  6.27198124e-01,\n",
       "         8.59928520e+07]])"
      ]
     },
     "metadata": {},
     "execution_count": 16
    }
   ],
   "source": [
    "X = df3[['Adj_Close','PCT_change','HL_PCT','Adj_Volume']].to_numpy()\n",
    "X"
   ]
  },
  {
   "cell_type": "code",
   "execution_count": 17,
   "metadata": {},
   "outputs": [
    {
     "output_type": "execute_result",
     "data": {
      "text/plain": [
       "array([[15.79675289],\n",
       "       [15.68838781],\n",
       "       [15.78183329],\n",
       "       ...,\n",
       "       [41.03352802],\n",
       "       [41.04074503],\n",
       "       [41.15621723]])"
      ]
     },
     "metadata": {},
     "execution_count": 17
    }
   ],
   "source": [
    "y = df3[['Label']].to_numpy()\n",
    "y"
   ]
  },
  {
   "cell_type": "code",
   "execution_count": 18,
   "metadata": {},
   "outputs": [
    {
     "output_type": "execute_result",
     "data": {
      "text/plain": [
       "StandardScaler()"
      ]
     },
     "metadata": {},
     "execution_count": 18
    }
   ],
   "source": [
    "from sklearn import preprocessing\n",
    "scaler = preprocessing.StandardScaler().fit(X)\n",
    "scaler"
   ]
  },
  {
   "cell_type": "code",
   "execution_count": 19,
   "metadata": {},
   "outputs": [
    {
     "output_type": "execute_result",
     "data": {
      "text/plain": [
       "((729, 4), (729, 1), (360, 4), (360, 1))"
      ]
     },
     "metadata": {},
     "execution_count": 19
    }
   ],
   "source": [
    "from sklearn.model_selection import train_test_split\n",
    "X_train, X_test, y_train, y_test = train_test_split(X, y, test_size=0.33, random_state=42)\n",
    "X_train.shape, y_train.shape, X_test.shape, y_test.shape"
   ]
  },
  {
   "cell_type": "code",
   "execution_count": 20,
   "metadata": {},
   "outputs": [
    {
     "output_type": "execute_result",
     "data": {
      "text/plain": [
       "LinearRegression()"
      ]
     },
     "metadata": {},
     "execution_count": 20
    }
   ],
   "source": [
    "from sklearn import linear_model\n",
    "linreg = linear_model.LinearRegression()\n",
    "linreg.fit(X_train,y_train)"
   ]
  },
  {
   "cell_type": "code",
   "execution_count": null,
   "metadata": {},
   "outputs": [],
   "source": [
    "#Microtask-4 What is MSE of the Model?"
   ]
  },
  {
   "cell_type": "code",
   "execution_count": 21,
   "metadata": {},
   "outputs": [
    {
     "output_type": "execute_result",
     "data": {
      "text/plain": [
       "0.13115904774860324"
      ]
     },
     "metadata": {},
     "execution_count": 21
    }
   ],
   "source": [
    "from sklearn.metrics import mean_squared_error\n",
    "y_pred = linreg.predict(X_test)\n",
    "mean_squared_error(y_test,y_pred)"
   ]
  }
 ]
}
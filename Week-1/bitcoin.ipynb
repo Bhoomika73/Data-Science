{
 "metadata": {
  "language_info": {
   "codemirror_mode": {
    "name": "ipython",
    "version": 3
   },
   "file_extension": ".py",
   "mimetype": "text/x-python",
   "name": "python",
   "nbconvert_exporter": "python",
   "pygments_lexer": "ipython3",
   "version": "3.8.1-final"
  },
  "orig_nbformat": 2,
  "kernelspec": {
   "name": "python3",
   "display_name": "Python 3.8.1 64-bit",
   "metadata": {
    "interpreter": {
     "hash": "e404b59586357c814bc0d3940e75d6763c00a48753b225b81f7716971b8e1741"
    }
   }
  }
 },
 "nbformat": 4,
 "nbformat_minor": 2,
 "cells": [
  {
   "cell_type": "code",
   "execution_count": null,
   "metadata": {},
   "outputs": [],
   "source": [
    "#Microtask-2 What is the 1024th value in the column 'btc_market_price'?"
   ]
  },
  {
   "cell_type": "code",
   "execution_count": 4,
   "metadata": {},
   "outputs": [
    {
     "output_type": "execute_result",
     "data": {
      "text/plain": [
       "        Date  btc_market_price  btc_total_bitcoins  btc_market_cap  \\\n",
       "0  2/17/2010               0.0           2043200.0             0.0   \n",
       "1  2/18/2010               0.0           2054650.0             0.0   \n",
       "2  2/19/2010               0.0           2063600.0             0.0   \n",
       "3  2/20/2010               0.0           2074700.0             0.0   \n",
       "4  2/21/2010               0.0           2085400.0             0.0   \n",
       "\n",
       "   btc_trade_volume  btc_blocks_size  btc_avg_block_size  \\\n",
       "0               0.0              0.0            0.000235   \n",
       "1               0.0              0.0            0.000241   \n",
       "2               0.0              0.0            0.000228   \n",
       "3               0.0              0.0            0.000218   \n",
       "4               0.0              0.0            0.000234   \n",
       "\n",
       "   btc_n_orphaned_blocks  btc_n_transactions_per_block  \\\n",
       "0                      0                           1.0   \n",
       "1                      0                           1.0   \n",
       "2                      0                           1.0   \n",
       "3                      0                           1.0   \n",
       "4                      0                           1.0   \n",
       "\n",
       "   btc_median_confirmation_time  ...  btc_cost_per_transaction_percent  \\\n",
       "0                           0.0  ...                         31.781022   \n",
       "1                           0.0  ...                        154.463801   \n",
       "2                           0.0  ...                       1278.516635   \n",
       "3                           0.0  ...                      22186.687990   \n",
       "4                           0.0  ...                        689.179876   \n",
       "\n",
       "   btc_cost_per_transaction  btc_n_unique_addresses  btc_n_transactions  \\\n",
       "0                       0.0                     241                 244   \n",
       "1                       0.0                     234                 235   \n",
       "2                       0.0                     185                 183   \n",
       "3                       0.0                     224                 224   \n",
       "4                       0.0                     218                 218   \n",
       "\n",
       "   btc_n_transactions_total  btc_n_transactions_excluding_popular  \\\n",
       "0                     41240                                   244   \n",
       "1                     41475                                   235   \n",
       "2                     41658                                   183   \n",
       "3                     41882                                   224   \n",
       "4                     42100                                   218   \n",
       "\n",
       "   btc_n_transactions_excluding_chains_longer_than_100  btc_output_volume  \\\n",
       "0                                                244             65173.13   \n",
       "1                                                235             18911.74   \n",
       "2                                                183              9749.98   \n",
       "3                                                224             11150.03   \n",
       "4                                                218             12266.83   \n",
       "\n",
       "   btc_estimated_transaction_volume  btc_estimated_transaction_volume_usd  \n",
       "0                           36500.0                                   0.0  \n",
       "1                            7413.0                                   0.0  \n",
       "2                             700.0                                   0.0  \n",
       "3                              50.0                                   0.0  \n",
       "4                            1553.0                                   0.0  \n",
       "\n",
       "[5 rows x 24 columns]"
      ],
      "text/html": "<div>\n<style scoped>\n    .dataframe tbody tr th:only-of-type {\n        vertical-align: middle;\n    }\n\n    .dataframe tbody tr th {\n        vertical-align: top;\n    }\n\n    .dataframe thead th {\n        text-align: right;\n    }\n</style>\n<table border=\"1\" class=\"dataframe\">\n  <thead>\n    <tr style=\"text-align: right;\">\n      <th></th>\n      <th>Date</th>\n      <th>btc_market_price</th>\n      <th>btc_total_bitcoins</th>\n      <th>btc_market_cap</th>\n      <th>btc_trade_volume</th>\n      <th>btc_blocks_size</th>\n      <th>btc_avg_block_size</th>\n      <th>btc_n_orphaned_blocks</th>\n      <th>btc_n_transactions_per_block</th>\n      <th>btc_median_confirmation_time</th>\n      <th>...</th>\n      <th>btc_cost_per_transaction_percent</th>\n      <th>btc_cost_per_transaction</th>\n      <th>btc_n_unique_addresses</th>\n      <th>btc_n_transactions</th>\n      <th>btc_n_transactions_total</th>\n      <th>btc_n_transactions_excluding_popular</th>\n      <th>btc_n_transactions_excluding_chains_longer_than_100</th>\n      <th>btc_output_volume</th>\n      <th>btc_estimated_transaction_volume</th>\n      <th>btc_estimated_transaction_volume_usd</th>\n    </tr>\n  </thead>\n  <tbody>\n    <tr>\n      <th>0</th>\n      <td>2/17/2010</td>\n      <td>0.0</td>\n      <td>2043200.0</td>\n      <td>0.0</td>\n      <td>0.0</td>\n      <td>0.0</td>\n      <td>0.000235</td>\n      <td>0</td>\n      <td>1.0</td>\n      <td>0.0</td>\n      <td>...</td>\n      <td>31.781022</td>\n      <td>0.0</td>\n      <td>241</td>\n      <td>244</td>\n      <td>41240</td>\n      <td>244</td>\n      <td>244</td>\n      <td>65173.13</td>\n      <td>36500.0</td>\n      <td>0.0</td>\n    </tr>\n    <tr>\n      <th>1</th>\n      <td>2/18/2010</td>\n      <td>0.0</td>\n      <td>2054650.0</td>\n      <td>0.0</td>\n      <td>0.0</td>\n      <td>0.0</td>\n      <td>0.000241</td>\n      <td>0</td>\n      <td>1.0</td>\n      <td>0.0</td>\n      <td>...</td>\n      <td>154.463801</td>\n      <td>0.0</td>\n      <td>234</td>\n      <td>235</td>\n      <td>41475</td>\n      <td>235</td>\n      <td>235</td>\n      <td>18911.74</td>\n      <td>7413.0</td>\n      <td>0.0</td>\n    </tr>\n    <tr>\n      <th>2</th>\n      <td>2/19/2010</td>\n      <td>0.0</td>\n      <td>2063600.0</td>\n      <td>0.0</td>\n      <td>0.0</td>\n      <td>0.0</td>\n      <td>0.000228</td>\n      <td>0</td>\n      <td>1.0</td>\n      <td>0.0</td>\n      <td>...</td>\n      <td>1278.516635</td>\n      <td>0.0</td>\n      <td>185</td>\n      <td>183</td>\n      <td>41658</td>\n      <td>183</td>\n      <td>183</td>\n      <td>9749.98</td>\n      <td>700.0</td>\n      <td>0.0</td>\n    </tr>\n    <tr>\n      <th>3</th>\n      <td>2/20/2010</td>\n      <td>0.0</td>\n      <td>2074700.0</td>\n      <td>0.0</td>\n      <td>0.0</td>\n      <td>0.0</td>\n      <td>0.000218</td>\n      <td>0</td>\n      <td>1.0</td>\n      <td>0.0</td>\n      <td>...</td>\n      <td>22186.687990</td>\n      <td>0.0</td>\n      <td>224</td>\n      <td>224</td>\n      <td>41882</td>\n      <td>224</td>\n      <td>224</td>\n      <td>11150.03</td>\n      <td>50.0</td>\n      <td>0.0</td>\n    </tr>\n    <tr>\n      <th>4</th>\n      <td>2/21/2010</td>\n      <td>0.0</td>\n      <td>2085400.0</td>\n      <td>0.0</td>\n      <td>0.0</td>\n      <td>0.0</td>\n      <td>0.000234</td>\n      <td>0</td>\n      <td>1.0</td>\n      <td>0.0</td>\n      <td>...</td>\n      <td>689.179876</td>\n      <td>0.0</td>\n      <td>218</td>\n      <td>218</td>\n      <td>42100</td>\n      <td>218</td>\n      <td>218</td>\n      <td>12266.83</td>\n      <td>1553.0</td>\n      <td>0.0</td>\n    </tr>\n  </tbody>\n</table>\n<p>5 rows × 24 columns</p>\n</div>"
     },
     "metadata": {},
     "execution_count": 4
    }
   ],
   "source": [
    "import pandas as pd\n",
    "bitcoin = pd.read_csv(\"bitcoin_dataset.csv\") \n",
    "bitcoin.head()"
   ]
  },
  {
   "cell_type": "code",
   "execution_count": 5,
   "metadata": {},
   "outputs": [
    {
     "output_type": "execute_result",
     "data": {
      "text/plain": [
       "13.6888"
      ]
     },
     "metadata": {},
     "execution_count": 5
    }
   ],
   "source": [
    "bitcoin[\"btc_market_price\"][1023]"
   ]
  },
  {
   "cell_type": "code",
   "execution_count": null,
   "metadata": {},
   "outputs": [],
   "source": [
    "#Microtask-3 Which feature shows a perfect correlation with 'btc_market_place' i.e. has pearsonr equal to 1?"
   ]
  },
  {
   "cell_type": "code",
   "execution_count": 6,
   "metadata": {},
   "outputs": [
    {
     "output_type": "stream",
     "name": "stdout",
     "text": [
      "btc_market_cap  : 1.000\n"
     ]
    }
   ],
   "source": [
    "import math\n",
    "from scipy.stats import pearsonr\n",
    "L = list(bitcoin.columns)\n",
    "L.remove(\"btc_market_price\")\n",
    "for i in range (0,len(L)):\n",
    "    try:\n",
    "        L1 = bitcoin[\"btc_market_price\"]\n",
    "        L2 = bitcoin[L[i]]\n",
    "        corr,_ = pearsonr(L1,L2)\n",
    "        if(math.isclose(1,corr,abs_tol = 0.01)):\n",
    "            print(L[i],\" : %.3f\" %corr) \n",
    "    except:\n",
    "        print(end=\"\")"
   ]
  },
  {
   "cell_type": "code",
   "execution_count": 7,
   "metadata": {},
   "outputs": [
    {
     "output_type": "execute_result",
     "data": {
      "text/plain": [
       "           Date  btc_market_price  btc_total_bitcoins  btc_market_cap  \\\n",
       "0     2/17/2010           0.00000           2043200.0    0.000000e+00   \n",
       "1     2/18/2010           0.00000           2054650.0    0.000000e+00   \n",
       "2     2/19/2010           0.00000           2063600.0    0.000000e+00   \n",
       "3     2/20/2010           0.00000           2074700.0    0.000000e+00   \n",
       "4     2/21/2010           0.00000           2085400.0    0.000000e+00   \n",
       "...         ...               ...                 ...             ...   \n",
       "2901  1/27/2018       11524.77667          16830312.5    1.940000e+11   \n",
       "2902  1/28/2018       11765.71000          16832287.5    1.980000e+11   \n",
       "2903  1/29/2018       11212.65500          16834137.5    1.890000e+11   \n",
       "2904  1/30/2018       10184.06167          16836225.0    1.710000e+11   \n",
       "2905  1/31/2018       10125.01333          16837687.5    1.700000e+11   \n",
       "\n",
       "      btc_trade_volume  btc_blocks_size  btc_avg_block_size  \\\n",
       "0         0.000000e+00           0.0000            0.000235   \n",
       "1         0.000000e+00           0.0000            0.000241   \n",
       "2         0.000000e+00           0.0000            0.000228   \n",
       "3         0.000000e+00           0.0000            0.000218   \n",
       "4         0.000000e+00           0.0000            0.000234   \n",
       "...                ...              ...                 ...   \n",
       "2901      7.630946e+08      153844.0759            1.038548   \n",
       "2902      7.381042e+08      154006.9753            1.031009   \n",
       "2903      6.111197e+08      154157.6651            1.018174   \n",
       "2904      1.266284e+09      154322.5790            0.987509   \n",
       "2905      9.332398e+08      154444.5903            1.042831   \n",
       "\n",
       "      btc_n_orphaned_blocks  btc_n_transactions_per_block  \\\n",
       "0                         0                      1.000000   \n",
       "1                         0                      1.000000   \n",
       "2                         0                      1.000000   \n",
       "3                         0                      1.000000   \n",
       "4                         0                      1.000000   \n",
       "...                     ...                           ...   \n",
       "2901                      0                   1232.980892   \n",
       "2902                      0                   1350.924051   \n",
       "2903                      0                   1568.756757   \n",
       "2904                      0                   1416.820359   \n",
       "2905                      0                   1745.948718   \n",
       "\n",
       "      btc_median_confirmation_time  ...  btc_cost_per_transaction_percent  \\\n",
       "0                            0.000  ...                         31.781022   \n",
       "1                            0.000  ...                        154.463801   \n",
       "2                            0.000  ...                       1278.516635   \n",
       "3                            0.000  ...                      22186.687990   \n",
       "4                            0.000  ...                        689.179876   \n",
       "...                            ...  ...                               ...   \n",
       "2901                        11.600  ...                          1.778601   \n",
       "2902                        11.950  ...                          1.302242   \n",
       "2903                        12.275  ...                          1.243012   \n",
       "2904                        11.075  ...                          1.301143   \n",
       "2905                        15.675  ...                          1.016284   \n",
       "\n",
       "      btc_cost_per_transaction  btc_n_unique_addresses  btc_n_transactions  \\\n",
       "0                     0.000000                     241                 244   \n",
       "1                     0.000000                     234                 235   \n",
       "2                     0.000000                     185                 183   \n",
       "3                     0.000000                     224                 224   \n",
       "4                     0.000000                     218                 218   \n",
       "...                        ...                     ...                 ...   \n",
       "2901                126.855696                  541699              193578   \n",
       "2902                117.430262                  492738              213446   \n",
       "2903                 96.382352                  532630              232176   \n",
       "2904                 96.749249                  531440              236609   \n",
       "2905                 80.529148                  481100              204276   \n",
       "\n",
       "      btc_n_transactions_total  btc_n_transactions_excluding_popular  \\\n",
       "0                        41240                                   244   \n",
       "1                        41475                                   235   \n",
       "2                        41658                                   183   \n",
       "3                        41882                                   224   \n",
       "4                        42100                                   218   \n",
       "...                        ...                                   ...   \n",
       "2901                 295802277                                188058   \n",
       "2902                 296015723                                205967   \n",
       "2903                 296247899                                225983   \n",
       "2904                 296484508                                230310   \n",
       "2905                 296688784                                197264   \n",
       "\n",
       "      btc_n_transactions_excluding_chains_longer_than_100  btc_output_volume  \\\n",
       "0                                                   244            65173.130   \n",
       "1                                                   235            18911.740   \n",
       "2                                                   183             9749.980   \n",
       "3                                                   224            11150.030   \n",
       "4                                                   218            12266.830   \n",
       "...                                                 ...                  ...   \n",
       "2901                                             126082          1363301.068   \n",
       "2902                                             137919          3128906.096   \n",
       "2903                                             155772          1941048.853   \n",
       "2904                                             158259          2359671.266   \n",
       "2905                                             141543          1785708.486   \n",
       "\n",
       "      btc_estimated_transaction_volume  btc_estimated_transaction_volume_usd  \n",
       "0                           36500.0000                          0.000000e+00  \n",
       "1                            7413.0000                          0.000000e+00  \n",
       "2                             700.0000                          0.000000e+00  \n",
       "3                              50.0000                          0.000000e+00  \n",
       "4                            1553.0000                          0.000000e+00  \n",
       "...                                ...                                   ...  \n",
       "2901                       119799.4611                          1.380662e+09  \n",
       "2902                       163590.5694                          1.924759e+09  \n",
       "2903                       160557.7065                          1.800278e+09  \n",
       "2904                       172755.8071                          1.759356e+09  \n",
       "2905                       159867.3306                          1.618659e+09  \n",
       "\n",
       "[2906 rows x 24 columns]"
      ],
      "text/html": "<div>\n<style scoped>\n    .dataframe tbody tr th:only-of-type {\n        vertical-align: middle;\n    }\n\n    .dataframe tbody tr th {\n        vertical-align: top;\n    }\n\n    .dataframe thead th {\n        text-align: right;\n    }\n</style>\n<table border=\"1\" class=\"dataframe\">\n  <thead>\n    <tr style=\"text-align: right;\">\n      <th></th>\n      <th>Date</th>\n      <th>btc_market_price</th>\n      <th>btc_total_bitcoins</th>\n      <th>btc_market_cap</th>\n      <th>btc_trade_volume</th>\n      <th>btc_blocks_size</th>\n      <th>btc_avg_block_size</th>\n      <th>btc_n_orphaned_blocks</th>\n      <th>btc_n_transactions_per_block</th>\n      <th>btc_median_confirmation_time</th>\n      <th>...</th>\n      <th>btc_cost_per_transaction_percent</th>\n      <th>btc_cost_per_transaction</th>\n      <th>btc_n_unique_addresses</th>\n      <th>btc_n_transactions</th>\n      <th>btc_n_transactions_total</th>\n      <th>btc_n_transactions_excluding_popular</th>\n      <th>btc_n_transactions_excluding_chains_longer_than_100</th>\n      <th>btc_output_volume</th>\n      <th>btc_estimated_transaction_volume</th>\n      <th>btc_estimated_transaction_volume_usd</th>\n    </tr>\n  </thead>\n  <tbody>\n    <tr>\n      <th>0</th>\n      <td>2/17/2010</td>\n      <td>0.00000</td>\n      <td>2043200.0</td>\n      <td>0.000000e+00</td>\n      <td>0.000000e+00</td>\n      <td>0.0000</td>\n      <td>0.000235</td>\n      <td>0</td>\n      <td>1.000000</td>\n      <td>0.000</td>\n      <td>...</td>\n      <td>31.781022</td>\n      <td>0.000000</td>\n      <td>241</td>\n      <td>244</td>\n      <td>41240</td>\n      <td>244</td>\n      <td>244</td>\n      <td>65173.130</td>\n      <td>36500.0000</td>\n      <td>0.000000e+00</td>\n    </tr>\n    <tr>\n      <th>1</th>\n      <td>2/18/2010</td>\n      <td>0.00000</td>\n      <td>2054650.0</td>\n      <td>0.000000e+00</td>\n      <td>0.000000e+00</td>\n      <td>0.0000</td>\n      <td>0.000241</td>\n      <td>0</td>\n      <td>1.000000</td>\n      <td>0.000</td>\n      <td>...</td>\n      <td>154.463801</td>\n      <td>0.000000</td>\n      <td>234</td>\n      <td>235</td>\n      <td>41475</td>\n      <td>235</td>\n      <td>235</td>\n      <td>18911.740</td>\n      <td>7413.0000</td>\n      <td>0.000000e+00</td>\n    </tr>\n    <tr>\n      <th>2</th>\n      <td>2/19/2010</td>\n      <td>0.00000</td>\n      <td>2063600.0</td>\n      <td>0.000000e+00</td>\n      <td>0.000000e+00</td>\n      <td>0.0000</td>\n      <td>0.000228</td>\n      <td>0</td>\n      <td>1.000000</td>\n      <td>0.000</td>\n      <td>...</td>\n      <td>1278.516635</td>\n      <td>0.000000</td>\n      <td>185</td>\n      <td>183</td>\n      <td>41658</td>\n      <td>183</td>\n      <td>183</td>\n      <td>9749.980</td>\n      <td>700.0000</td>\n      <td>0.000000e+00</td>\n    </tr>\n    <tr>\n      <th>3</th>\n      <td>2/20/2010</td>\n      <td>0.00000</td>\n      <td>2074700.0</td>\n      <td>0.000000e+00</td>\n      <td>0.000000e+00</td>\n      <td>0.0000</td>\n      <td>0.000218</td>\n      <td>0</td>\n      <td>1.000000</td>\n      <td>0.000</td>\n      <td>...</td>\n      <td>22186.687990</td>\n      <td>0.000000</td>\n      <td>224</td>\n      <td>224</td>\n      <td>41882</td>\n      <td>224</td>\n      <td>224</td>\n      <td>11150.030</td>\n      <td>50.0000</td>\n      <td>0.000000e+00</td>\n    </tr>\n    <tr>\n      <th>4</th>\n      <td>2/21/2010</td>\n      <td>0.00000</td>\n      <td>2085400.0</td>\n      <td>0.000000e+00</td>\n      <td>0.000000e+00</td>\n      <td>0.0000</td>\n      <td>0.000234</td>\n      <td>0</td>\n      <td>1.000000</td>\n      <td>0.000</td>\n      <td>...</td>\n      <td>689.179876</td>\n      <td>0.000000</td>\n      <td>218</td>\n      <td>218</td>\n      <td>42100</td>\n      <td>218</td>\n      <td>218</td>\n      <td>12266.830</td>\n      <td>1553.0000</td>\n      <td>0.000000e+00</td>\n    </tr>\n    <tr>\n      <th>...</th>\n      <td>...</td>\n      <td>...</td>\n      <td>...</td>\n      <td>...</td>\n      <td>...</td>\n      <td>...</td>\n      <td>...</td>\n      <td>...</td>\n      <td>...</td>\n      <td>...</td>\n      <td>...</td>\n      <td>...</td>\n      <td>...</td>\n      <td>...</td>\n      <td>...</td>\n      <td>...</td>\n      <td>...</td>\n      <td>...</td>\n      <td>...</td>\n      <td>...</td>\n      <td>...</td>\n    </tr>\n    <tr>\n      <th>2901</th>\n      <td>1/27/2018</td>\n      <td>11524.77667</td>\n      <td>16830312.5</td>\n      <td>1.940000e+11</td>\n      <td>7.630946e+08</td>\n      <td>153844.0759</td>\n      <td>1.038548</td>\n      <td>0</td>\n      <td>1232.980892</td>\n      <td>11.600</td>\n      <td>...</td>\n      <td>1.778601</td>\n      <td>126.855696</td>\n      <td>541699</td>\n      <td>193578</td>\n      <td>295802277</td>\n      <td>188058</td>\n      <td>126082</td>\n      <td>1363301.068</td>\n      <td>119799.4611</td>\n      <td>1.380662e+09</td>\n    </tr>\n    <tr>\n      <th>2902</th>\n      <td>1/28/2018</td>\n      <td>11765.71000</td>\n      <td>16832287.5</td>\n      <td>1.980000e+11</td>\n      <td>7.381042e+08</td>\n      <td>154006.9753</td>\n      <td>1.031009</td>\n      <td>0</td>\n      <td>1350.924051</td>\n      <td>11.950</td>\n      <td>...</td>\n      <td>1.302242</td>\n      <td>117.430262</td>\n      <td>492738</td>\n      <td>213446</td>\n      <td>296015723</td>\n      <td>205967</td>\n      <td>137919</td>\n      <td>3128906.096</td>\n      <td>163590.5694</td>\n      <td>1.924759e+09</td>\n    </tr>\n    <tr>\n      <th>2903</th>\n      <td>1/29/2018</td>\n      <td>11212.65500</td>\n      <td>16834137.5</td>\n      <td>1.890000e+11</td>\n      <td>6.111197e+08</td>\n      <td>154157.6651</td>\n      <td>1.018174</td>\n      <td>0</td>\n      <td>1568.756757</td>\n      <td>12.275</td>\n      <td>...</td>\n      <td>1.243012</td>\n      <td>96.382352</td>\n      <td>532630</td>\n      <td>232176</td>\n      <td>296247899</td>\n      <td>225983</td>\n      <td>155772</td>\n      <td>1941048.853</td>\n      <td>160557.7065</td>\n      <td>1.800278e+09</td>\n    </tr>\n    <tr>\n      <th>2904</th>\n      <td>1/30/2018</td>\n      <td>10184.06167</td>\n      <td>16836225.0</td>\n      <td>1.710000e+11</td>\n      <td>1.266284e+09</td>\n      <td>154322.5790</td>\n      <td>0.987509</td>\n      <td>0</td>\n      <td>1416.820359</td>\n      <td>11.075</td>\n      <td>...</td>\n      <td>1.301143</td>\n      <td>96.749249</td>\n      <td>531440</td>\n      <td>236609</td>\n      <td>296484508</td>\n      <td>230310</td>\n      <td>158259</td>\n      <td>2359671.266</td>\n      <td>172755.8071</td>\n      <td>1.759356e+09</td>\n    </tr>\n    <tr>\n      <th>2905</th>\n      <td>1/31/2018</td>\n      <td>10125.01333</td>\n      <td>16837687.5</td>\n      <td>1.700000e+11</td>\n      <td>9.332398e+08</td>\n      <td>154444.5903</td>\n      <td>1.042831</td>\n      <td>0</td>\n      <td>1745.948718</td>\n      <td>15.675</td>\n      <td>...</td>\n      <td>1.016284</td>\n      <td>80.529148</td>\n      <td>481100</td>\n      <td>204276</td>\n      <td>296688784</td>\n      <td>197264</td>\n      <td>141543</td>\n      <td>1785708.486</td>\n      <td>159867.3306</td>\n      <td>1.618659e+09</td>\n    </tr>\n  </tbody>\n</table>\n<p>2906 rows × 24 columns</p>\n</div>"
     },
     "metadata": {},
     "execution_count": 7
    }
   ],
   "source": [
    "bitcoin.fillna(bitcoin.mean())"
   ]
  },
  {
   "cell_type": "code",
   "execution_count": 9,
   "metadata": {},
   "outputs": [
    {
     "output_type": "execute_result",
     "data": {
      "text/plain": [
       "      btc_market_price  btc_total_bitcoins  btc_market_cap  btc_trade_volume  \\\n",
       "0              0.00000           2043200.0    0.000000e+00      0.000000e+00   \n",
       "1              0.00000           2054650.0    0.000000e+00      0.000000e+00   \n",
       "2              0.00000           2063600.0    0.000000e+00      0.000000e+00   \n",
       "3              0.00000           2074700.0    0.000000e+00      0.000000e+00   \n",
       "4              0.00000           2085400.0    0.000000e+00      0.000000e+00   \n",
       "...                ...                 ...             ...               ...   \n",
       "2901       11524.77667          16830312.5    1.940000e+11      7.630946e+08   \n",
       "2902       11765.71000          16832287.5    1.980000e+11      7.381042e+08   \n",
       "2903       11212.65500          16834137.5    1.890000e+11      6.111197e+08   \n",
       "2904       10184.06167          16836225.0    1.710000e+11      1.266284e+09   \n",
       "2905       10125.01333          16837687.5    1.700000e+11      9.332398e+08   \n",
       "\n",
       "      btc_blocks_size  btc_avg_block_size  btc_n_orphaned_blocks  \\\n",
       "0              0.0000            0.000235                      0   \n",
       "1              0.0000            0.000241                      0   \n",
       "2              0.0000            0.000228                      0   \n",
       "3              0.0000            0.000218                      0   \n",
       "4              0.0000            0.000234                      0   \n",
       "...               ...                 ...                    ...   \n",
       "2901      153844.0759            1.038548                      0   \n",
       "2902      154006.9753            1.031009                      0   \n",
       "2903      154157.6651            1.018174                      0   \n",
       "2904      154322.5790            0.987509                      0   \n",
       "2905      154444.5903            1.042831                      0   \n",
       "\n",
       "      btc_n_transactions_per_block  btc_median_confirmation_time  \\\n",
       "0                         1.000000                         0.000   \n",
       "1                         1.000000                         0.000   \n",
       "2                         1.000000                         0.000   \n",
       "3                         1.000000                         0.000   \n",
       "4                         1.000000                         0.000   \n",
       "...                            ...                           ...   \n",
       "2901                   1232.980892                        11.600   \n",
       "2902                   1350.924051                        11.950   \n",
       "2903                   1568.756757                        12.275   \n",
       "2904                   1416.820359                        11.075   \n",
       "2905                   1745.948718                        15.675   \n",
       "\n",
       "      btc_hash_rate  ...  btc_cost_per_transaction_percent  \\\n",
       "0      2.920000e-05  ...                         31.781022   \n",
       "1      2.880000e-05  ...                        154.463801   \n",
       "2      2.250000e-05  ...                       1278.516635   \n",
       "3      2.790000e-05  ...                      22186.687990   \n",
       "4      2.690000e-05  ...                        689.179876   \n",
       "...             ...  ...                               ...   \n",
       "2901   2.031575e+07  ...                          1.778601   \n",
       "2902   2.044515e+07  ...                          1.302242   \n",
       "2903   1.915115e+07  ...                          1.243012   \n",
       "2904   2.160975e+07  ...                          1.301143   \n",
       "2905   1.513976e+07  ...                          1.016284   \n",
       "\n",
       "      btc_cost_per_transaction  btc_n_unique_addresses  btc_n_transactions  \\\n",
       "0                     0.000000                     241                 244   \n",
       "1                     0.000000                     234                 235   \n",
       "2                     0.000000                     185                 183   \n",
       "3                     0.000000                     224                 224   \n",
       "4                     0.000000                     218                 218   \n",
       "...                        ...                     ...                 ...   \n",
       "2901                126.855696                  541699              193578   \n",
       "2902                117.430262                  492738              213446   \n",
       "2903                 96.382352                  532630              232176   \n",
       "2904                 96.749249                  531440              236609   \n",
       "2905                 80.529148                  481100              204276   \n",
       "\n",
       "      btc_n_transactions_total  btc_n_transactions_excluding_popular  \\\n",
       "0                        41240                                   244   \n",
       "1                        41475                                   235   \n",
       "2                        41658                                   183   \n",
       "3                        41882                                   224   \n",
       "4                        42100                                   218   \n",
       "...                        ...                                   ...   \n",
       "2901                 295802277                                188058   \n",
       "2902                 296015723                                205967   \n",
       "2903                 296247899                                225983   \n",
       "2904                 296484508                                230310   \n",
       "2905                 296688784                                197264   \n",
       "\n",
       "      btc_n_transactions_excluding_chains_longer_than_100  btc_output_volume  \\\n",
       "0                                                   244            65173.130   \n",
       "1                                                   235            18911.740   \n",
       "2                                                   183             9749.980   \n",
       "3                                                   224            11150.030   \n",
       "4                                                   218            12266.830   \n",
       "...                                                 ...                  ...   \n",
       "2901                                             126082          1363301.068   \n",
       "2902                                             137919          3128906.096   \n",
       "2903                                             155772          1941048.853   \n",
       "2904                                             158259          2359671.266   \n",
       "2905                                             141543          1785708.486   \n",
       "\n",
       "      btc_estimated_transaction_volume  btc_estimated_transaction_volume_usd  \n",
       "0                           36500.0000                          0.000000e+00  \n",
       "1                            7413.0000                          0.000000e+00  \n",
       "2                             700.0000                          0.000000e+00  \n",
       "3                              50.0000                          0.000000e+00  \n",
       "4                            1553.0000                          0.000000e+00  \n",
       "...                                ...                                   ...  \n",
       "2901                       119799.4611                          1.380662e+09  \n",
       "2902                       163590.5694                          1.924759e+09  \n",
       "2903                       160557.7065                          1.800278e+09  \n",
       "2904                       172755.8071                          1.759356e+09  \n",
       "2905                       159867.3306                          1.618659e+09  \n",
       "\n",
       "[2906 rows x 23 columns]"
      ],
      "text/html": "<div>\n<style scoped>\n    .dataframe tbody tr th:only-of-type {\n        vertical-align: middle;\n    }\n\n    .dataframe tbody tr th {\n        vertical-align: top;\n    }\n\n    .dataframe thead th {\n        text-align: right;\n    }\n</style>\n<table border=\"1\" class=\"dataframe\">\n  <thead>\n    <tr style=\"text-align: right;\">\n      <th></th>\n      <th>btc_market_price</th>\n      <th>btc_total_bitcoins</th>\n      <th>btc_market_cap</th>\n      <th>btc_trade_volume</th>\n      <th>btc_blocks_size</th>\n      <th>btc_avg_block_size</th>\n      <th>btc_n_orphaned_blocks</th>\n      <th>btc_n_transactions_per_block</th>\n      <th>btc_median_confirmation_time</th>\n      <th>btc_hash_rate</th>\n      <th>...</th>\n      <th>btc_cost_per_transaction_percent</th>\n      <th>btc_cost_per_transaction</th>\n      <th>btc_n_unique_addresses</th>\n      <th>btc_n_transactions</th>\n      <th>btc_n_transactions_total</th>\n      <th>btc_n_transactions_excluding_popular</th>\n      <th>btc_n_transactions_excluding_chains_longer_than_100</th>\n      <th>btc_output_volume</th>\n      <th>btc_estimated_transaction_volume</th>\n      <th>btc_estimated_transaction_volume_usd</th>\n    </tr>\n  </thead>\n  <tbody>\n    <tr>\n      <th>0</th>\n      <td>0.00000</td>\n      <td>2043200.0</td>\n      <td>0.000000e+00</td>\n      <td>0.000000e+00</td>\n      <td>0.0000</td>\n      <td>0.000235</td>\n      <td>0</td>\n      <td>1.000000</td>\n      <td>0.000</td>\n      <td>2.920000e-05</td>\n      <td>...</td>\n      <td>31.781022</td>\n      <td>0.000000</td>\n      <td>241</td>\n      <td>244</td>\n      <td>41240</td>\n      <td>244</td>\n      <td>244</td>\n      <td>65173.130</td>\n      <td>36500.0000</td>\n      <td>0.000000e+00</td>\n    </tr>\n    <tr>\n      <th>1</th>\n      <td>0.00000</td>\n      <td>2054650.0</td>\n      <td>0.000000e+00</td>\n      <td>0.000000e+00</td>\n      <td>0.0000</td>\n      <td>0.000241</td>\n      <td>0</td>\n      <td>1.000000</td>\n      <td>0.000</td>\n      <td>2.880000e-05</td>\n      <td>...</td>\n      <td>154.463801</td>\n      <td>0.000000</td>\n      <td>234</td>\n      <td>235</td>\n      <td>41475</td>\n      <td>235</td>\n      <td>235</td>\n      <td>18911.740</td>\n      <td>7413.0000</td>\n      <td>0.000000e+00</td>\n    </tr>\n    <tr>\n      <th>2</th>\n      <td>0.00000</td>\n      <td>2063600.0</td>\n      <td>0.000000e+00</td>\n      <td>0.000000e+00</td>\n      <td>0.0000</td>\n      <td>0.000228</td>\n      <td>0</td>\n      <td>1.000000</td>\n      <td>0.000</td>\n      <td>2.250000e-05</td>\n      <td>...</td>\n      <td>1278.516635</td>\n      <td>0.000000</td>\n      <td>185</td>\n      <td>183</td>\n      <td>41658</td>\n      <td>183</td>\n      <td>183</td>\n      <td>9749.980</td>\n      <td>700.0000</td>\n      <td>0.000000e+00</td>\n    </tr>\n    <tr>\n      <th>3</th>\n      <td>0.00000</td>\n      <td>2074700.0</td>\n      <td>0.000000e+00</td>\n      <td>0.000000e+00</td>\n      <td>0.0000</td>\n      <td>0.000218</td>\n      <td>0</td>\n      <td>1.000000</td>\n      <td>0.000</td>\n      <td>2.790000e-05</td>\n      <td>...</td>\n      <td>22186.687990</td>\n      <td>0.000000</td>\n      <td>224</td>\n      <td>224</td>\n      <td>41882</td>\n      <td>224</td>\n      <td>224</td>\n      <td>11150.030</td>\n      <td>50.0000</td>\n      <td>0.000000e+00</td>\n    </tr>\n    <tr>\n      <th>4</th>\n      <td>0.00000</td>\n      <td>2085400.0</td>\n      <td>0.000000e+00</td>\n      <td>0.000000e+00</td>\n      <td>0.0000</td>\n      <td>0.000234</td>\n      <td>0</td>\n      <td>1.000000</td>\n      <td>0.000</td>\n      <td>2.690000e-05</td>\n      <td>...</td>\n      <td>689.179876</td>\n      <td>0.000000</td>\n      <td>218</td>\n      <td>218</td>\n      <td>42100</td>\n      <td>218</td>\n      <td>218</td>\n      <td>12266.830</td>\n      <td>1553.0000</td>\n      <td>0.000000e+00</td>\n    </tr>\n    <tr>\n      <th>...</th>\n      <td>...</td>\n      <td>...</td>\n      <td>...</td>\n      <td>...</td>\n      <td>...</td>\n      <td>...</td>\n      <td>...</td>\n      <td>...</td>\n      <td>...</td>\n      <td>...</td>\n      <td>...</td>\n      <td>...</td>\n      <td>...</td>\n      <td>...</td>\n      <td>...</td>\n      <td>...</td>\n      <td>...</td>\n      <td>...</td>\n      <td>...</td>\n      <td>...</td>\n      <td>...</td>\n    </tr>\n    <tr>\n      <th>2901</th>\n      <td>11524.77667</td>\n      <td>16830312.5</td>\n      <td>1.940000e+11</td>\n      <td>7.630946e+08</td>\n      <td>153844.0759</td>\n      <td>1.038548</td>\n      <td>0</td>\n      <td>1232.980892</td>\n      <td>11.600</td>\n      <td>2.031575e+07</td>\n      <td>...</td>\n      <td>1.778601</td>\n      <td>126.855696</td>\n      <td>541699</td>\n      <td>193578</td>\n      <td>295802277</td>\n      <td>188058</td>\n      <td>126082</td>\n      <td>1363301.068</td>\n      <td>119799.4611</td>\n      <td>1.380662e+09</td>\n    </tr>\n    <tr>\n      <th>2902</th>\n      <td>11765.71000</td>\n      <td>16832287.5</td>\n      <td>1.980000e+11</td>\n      <td>7.381042e+08</td>\n      <td>154006.9753</td>\n      <td>1.031009</td>\n      <td>0</td>\n      <td>1350.924051</td>\n      <td>11.950</td>\n      <td>2.044515e+07</td>\n      <td>...</td>\n      <td>1.302242</td>\n      <td>117.430262</td>\n      <td>492738</td>\n      <td>213446</td>\n      <td>296015723</td>\n      <td>205967</td>\n      <td>137919</td>\n      <td>3128906.096</td>\n      <td>163590.5694</td>\n      <td>1.924759e+09</td>\n    </tr>\n    <tr>\n      <th>2903</th>\n      <td>11212.65500</td>\n      <td>16834137.5</td>\n      <td>1.890000e+11</td>\n      <td>6.111197e+08</td>\n      <td>154157.6651</td>\n      <td>1.018174</td>\n      <td>0</td>\n      <td>1568.756757</td>\n      <td>12.275</td>\n      <td>1.915115e+07</td>\n      <td>...</td>\n      <td>1.243012</td>\n      <td>96.382352</td>\n      <td>532630</td>\n      <td>232176</td>\n      <td>296247899</td>\n      <td>225983</td>\n      <td>155772</td>\n      <td>1941048.853</td>\n      <td>160557.7065</td>\n      <td>1.800278e+09</td>\n    </tr>\n    <tr>\n      <th>2904</th>\n      <td>10184.06167</td>\n      <td>16836225.0</td>\n      <td>1.710000e+11</td>\n      <td>1.266284e+09</td>\n      <td>154322.5790</td>\n      <td>0.987509</td>\n      <td>0</td>\n      <td>1416.820359</td>\n      <td>11.075</td>\n      <td>2.160975e+07</td>\n      <td>...</td>\n      <td>1.301143</td>\n      <td>96.749249</td>\n      <td>531440</td>\n      <td>236609</td>\n      <td>296484508</td>\n      <td>230310</td>\n      <td>158259</td>\n      <td>2359671.266</td>\n      <td>172755.8071</td>\n      <td>1.759356e+09</td>\n    </tr>\n    <tr>\n      <th>2905</th>\n      <td>10125.01333</td>\n      <td>16837687.5</td>\n      <td>1.700000e+11</td>\n      <td>9.332398e+08</td>\n      <td>154444.5903</td>\n      <td>1.042831</td>\n      <td>0</td>\n      <td>1745.948718</td>\n      <td>15.675</td>\n      <td>1.513976e+07</td>\n      <td>...</td>\n      <td>1.016284</td>\n      <td>80.529148</td>\n      <td>481100</td>\n      <td>204276</td>\n      <td>296688784</td>\n      <td>197264</td>\n      <td>141543</td>\n      <td>1785708.486</td>\n      <td>159867.3306</td>\n      <td>1.618659e+09</td>\n    </tr>\n  </tbody>\n</table>\n<p>2906 rows × 23 columns</p>\n</div>"
     },
     "metadata": {},
     "execution_count": 9
    }
   ],
   "source": [
    "from sklearn.model_selection import train_test_split\n",
    "numerics = ['int16', 'int32', 'int64', 'float16', 'float32', 'float64']\n",
    "num = bitcoin.select_dtypes(include=numerics)\n",
    "num"
   ]
  },
  {
   "cell_type": "code",
   "execution_count": 10,
   "metadata": {
    "tags": []
   },
   "outputs": [
    {
     "output_type": "stream",
     "name": "stdout",
     "text": [
      "(2034, 23) (872, 23) (2034, 23) (872, 23)\n"
     ]
    }
   ],
   "source": [
    "final = num.fillna(num.mean())\n",
    "x_train,x_test,y_train,y_test = train_test_split(final,final,train_size = 0.7)\n",
    "print(x_train.shape,x_test.shape,y_train.shape,y_test.shape)"
   ]
  },
  {
   "cell_type": "code",
   "execution_count": null,
   "metadata": {},
   "outputs": [],
   "source": [
    "#Microtask-5 What is the MSE of the Model?"
   ]
  },
  {
   "cell_type": "code",
   "execution_count": 11,
   "metadata": {},
   "outputs": [
    {
     "output_type": "execute_result",
     "data": {
      "text/plain": [
       "2.3203102491287887e-10"
      ]
     },
     "metadata": {},
     "execution_count": 11
    }
   ],
   "source": [
    "from sklearn import datasets, linear_model\n",
    "linreg = linear_model.LinearRegression()\n",
    "linreg.fit(x_train,y_train)\n",
    "y_pred = linreg.predict(x_test)\n",
    "from sklearn.metrics import mean_squared_error\n",
    "mean_squared_error(y_test,y_pred)"
   ]
  }
 ]
}
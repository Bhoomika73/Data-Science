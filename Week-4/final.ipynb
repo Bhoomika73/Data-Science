{
 "metadata": {
  "language_info": {
   "codemirror_mode": {
    "name": "ipython",
    "version": 3
   },
   "file_extension": ".py",
   "mimetype": "text/x-python",
   "name": "python",
   "nbconvert_exporter": "python",
   "pygments_lexer": "ipython3",
   "version": "3.8.1-final"
  },
  "orig_nbformat": 2,
  "kernelspec": {
   "name": "python3",
   "display_name": "Python 3.8.1 64-bit",
   "metadata": {
    "interpreter": {
     "hash": "e404b59586357c814bc0d3940e75d6763c00a48753b225b81f7716971b8e1741"
    }
   }
  }
 },
 "nbformat": 4,
 "nbformat_minor": 2,
 "cells": [
  {
   "cell_type": "code",
   "execution_count": 1,
   "metadata": {},
   "outputs": [
    {
     "output_type": "execute_result",
     "data": {
      "text/plain": [
       "                  Date/Time      Lat      Lon    Base\n",
       "0          4/1/2014 0:11:00  40.7690 -73.9549  B02512\n",
       "1          4/1/2014 0:17:00  40.7267 -74.0345  B02512\n",
       "2          4/1/2014 0:21:00  40.7316 -73.9873  B02512\n",
       "3          4/1/2014 0:28:00  40.7588 -73.9776  B02512\n",
       "4          4/1/2014 0:33:00  40.7594 -73.9722  B02512\n",
       "...                     ...      ...      ...     ...\n",
       "4534322  9/30/2014 22:57:00  40.7668 -73.9845  B02764\n",
       "4534323  9/30/2014 22:57:00  40.6911 -74.1773  B02764\n",
       "4534324  9/30/2014 22:58:00  40.8519 -73.9319  B02764\n",
       "4534325  9/30/2014 22:58:00  40.7081 -74.0066  B02764\n",
       "4534326  9/30/2014 22:58:00  40.7140 -73.9496  B02764\n",
       "\n",
       "[4534327 rows x 4 columns]"
      ],
      "text/html": "<div>\n<style scoped>\n    .dataframe tbody tr th:only-of-type {\n        vertical-align: middle;\n    }\n\n    .dataframe tbody tr th {\n        vertical-align: top;\n    }\n\n    .dataframe thead th {\n        text-align: right;\n    }\n</style>\n<table border=\"1\" class=\"dataframe\">\n  <thead>\n    <tr style=\"text-align: right;\">\n      <th></th>\n      <th>Date/Time</th>\n      <th>Lat</th>\n      <th>Lon</th>\n      <th>Base</th>\n    </tr>\n  </thead>\n  <tbody>\n    <tr>\n      <th>0</th>\n      <td>4/1/2014 0:11:00</td>\n      <td>40.7690</td>\n      <td>-73.9549</td>\n      <td>B02512</td>\n    </tr>\n    <tr>\n      <th>1</th>\n      <td>4/1/2014 0:17:00</td>\n      <td>40.7267</td>\n      <td>-74.0345</td>\n      <td>B02512</td>\n    </tr>\n    <tr>\n      <th>2</th>\n      <td>4/1/2014 0:21:00</td>\n      <td>40.7316</td>\n      <td>-73.9873</td>\n      <td>B02512</td>\n    </tr>\n    <tr>\n      <th>3</th>\n      <td>4/1/2014 0:28:00</td>\n      <td>40.7588</td>\n      <td>-73.9776</td>\n      <td>B02512</td>\n    </tr>\n    <tr>\n      <th>4</th>\n      <td>4/1/2014 0:33:00</td>\n      <td>40.7594</td>\n      <td>-73.9722</td>\n      <td>B02512</td>\n    </tr>\n    <tr>\n      <th>...</th>\n      <td>...</td>\n      <td>...</td>\n      <td>...</td>\n      <td>...</td>\n    </tr>\n    <tr>\n      <th>4534322</th>\n      <td>9/30/2014 22:57:00</td>\n      <td>40.7668</td>\n      <td>-73.9845</td>\n      <td>B02764</td>\n    </tr>\n    <tr>\n      <th>4534323</th>\n      <td>9/30/2014 22:57:00</td>\n      <td>40.6911</td>\n      <td>-74.1773</td>\n      <td>B02764</td>\n    </tr>\n    <tr>\n      <th>4534324</th>\n      <td>9/30/2014 22:58:00</td>\n      <td>40.8519</td>\n      <td>-73.9319</td>\n      <td>B02764</td>\n    </tr>\n    <tr>\n      <th>4534325</th>\n      <td>9/30/2014 22:58:00</td>\n      <td>40.7081</td>\n      <td>-74.0066</td>\n      <td>B02764</td>\n    </tr>\n    <tr>\n      <th>4534326</th>\n      <td>9/30/2014 22:58:00</td>\n      <td>40.7140</td>\n      <td>-73.9496</td>\n      <td>B02764</td>\n    </tr>\n  </tbody>\n</table>\n<p>4534327 rows × 4 columns</p>\n</div>"
     },
     "metadata": {},
     "execution_count": 1
    }
   ],
   "source": [
    "import pandas as pd\n",
    "import glob\n",
    "\n",
    "path = r'C:\\Users\\BHOOMIKA\\Desktop\\winternship\\week4' # use your path\n",
    "all_files = glob.glob(path + \"/*.csv\")\n",
    "\n",
    "li = []\n",
    "\n",
    "for filename in all_files:\n",
    "    df = pd.read_csv(filename, index_col=None, header=0)\n",
    "    li.append(df)\n",
    "\n",
    "frame = pd.concat(li, axis=0, ignore_index=True)\n",
    "frame"
   ]
  },
  {
   "cell_type": "code",
   "execution_count": 2,
   "metadata": {},
   "outputs": [
    {
     "output_type": "execute_result",
     "data": {
      "text/plain": [
       "                  Date/Time      Lat      Lon    Base        Date  OnlyDate  \\\n",
       "0          4/1/2014 0:11:00  40.7690 -73.9549  B02512  2014-04-01         1   \n",
       "1          4/1/2014 0:17:00  40.7267 -74.0345  B02512  2014-04-01         1   \n",
       "2          4/1/2014 0:21:00  40.7316 -73.9873  B02512  2014-04-01         1   \n",
       "3          4/1/2014 0:28:00  40.7588 -73.9776  B02512  2014-04-01         1   \n",
       "4          4/1/2014 0:33:00  40.7594 -73.9722  B02512  2014-04-01         1   \n",
       "...                     ...      ...      ...     ...         ...       ...   \n",
       "4534322  9/30/2014 22:57:00  40.7668 -73.9845  B02764  2014-09-30        30   \n",
       "4534323  9/30/2014 22:57:00  40.6911 -74.1773  B02764  2014-09-30        30   \n",
       "4534324  9/30/2014 22:58:00  40.8519 -73.9319  B02764  2014-09-30        30   \n",
       "4534325  9/30/2014 22:58:00  40.7081 -74.0066  B02764  2014-09-30        30   \n",
       "4534326  9/30/2014 22:58:00  40.7140 -73.9496  B02764  2014-09-30        30   \n",
       "\n",
       "         Month  DayOfTheWeek      Time  Hour  \n",
       "0            4             1  00:11:00     0  \n",
       "1            4             1  00:17:00     0  \n",
       "2            4             1  00:21:00     0  \n",
       "3            4             1  00:28:00     0  \n",
       "4            4             1  00:33:00     0  \n",
       "...        ...           ...       ...   ...  \n",
       "4534322      9             1  22:57:00    22  \n",
       "4534323      9             1  22:57:00    22  \n",
       "4534324      9             1  22:58:00    22  \n",
       "4534325      9             1  22:58:00    22  \n",
       "4534326      9             1  22:58:00    22  \n",
       "\n",
       "[4534327 rows x 10 columns]"
      ],
      "text/html": "<div>\n<style scoped>\n    .dataframe tbody tr th:only-of-type {\n        vertical-align: middle;\n    }\n\n    .dataframe tbody tr th {\n        vertical-align: top;\n    }\n\n    .dataframe thead th {\n        text-align: right;\n    }\n</style>\n<table border=\"1\" class=\"dataframe\">\n  <thead>\n    <tr style=\"text-align: right;\">\n      <th></th>\n      <th>Date/Time</th>\n      <th>Lat</th>\n      <th>Lon</th>\n      <th>Base</th>\n      <th>Date</th>\n      <th>OnlyDate</th>\n      <th>Month</th>\n      <th>DayOfTheWeek</th>\n      <th>Time</th>\n      <th>Hour</th>\n    </tr>\n  </thead>\n  <tbody>\n    <tr>\n      <th>0</th>\n      <td>4/1/2014 0:11:00</td>\n      <td>40.7690</td>\n      <td>-73.9549</td>\n      <td>B02512</td>\n      <td>2014-04-01</td>\n      <td>1</td>\n      <td>4</td>\n      <td>1</td>\n      <td>00:11:00</td>\n      <td>0</td>\n    </tr>\n    <tr>\n      <th>1</th>\n      <td>4/1/2014 0:17:00</td>\n      <td>40.7267</td>\n      <td>-74.0345</td>\n      <td>B02512</td>\n      <td>2014-04-01</td>\n      <td>1</td>\n      <td>4</td>\n      <td>1</td>\n      <td>00:17:00</td>\n      <td>0</td>\n    </tr>\n    <tr>\n      <th>2</th>\n      <td>4/1/2014 0:21:00</td>\n      <td>40.7316</td>\n      <td>-73.9873</td>\n      <td>B02512</td>\n      <td>2014-04-01</td>\n      <td>1</td>\n      <td>4</td>\n      <td>1</td>\n      <td>00:21:00</td>\n      <td>0</td>\n    </tr>\n    <tr>\n      <th>3</th>\n      <td>4/1/2014 0:28:00</td>\n      <td>40.7588</td>\n      <td>-73.9776</td>\n      <td>B02512</td>\n      <td>2014-04-01</td>\n      <td>1</td>\n      <td>4</td>\n      <td>1</td>\n      <td>00:28:00</td>\n      <td>0</td>\n    </tr>\n    <tr>\n      <th>4</th>\n      <td>4/1/2014 0:33:00</td>\n      <td>40.7594</td>\n      <td>-73.9722</td>\n      <td>B02512</td>\n      <td>2014-04-01</td>\n      <td>1</td>\n      <td>4</td>\n      <td>1</td>\n      <td>00:33:00</td>\n      <td>0</td>\n    </tr>\n    <tr>\n      <th>...</th>\n      <td>...</td>\n      <td>...</td>\n      <td>...</td>\n      <td>...</td>\n      <td>...</td>\n      <td>...</td>\n      <td>...</td>\n      <td>...</td>\n      <td>...</td>\n      <td>...</td>\n    </tr>\n    <tr>\n      <th>4534322</th>\n      <td>9/30/2014 22:57:00</td>\n      <td>40.7668</td>\n      <td>-73.9845</td>\n      <td>B02764</td>\n      <td>2014-09-30</td>\n      <td>30</td>\n      <td>9</td>\n      <td>1</td>\n      <td>22:57:00</td>\n      <td>22</td>\n    </tr>\n    <tr>\n      <th>4534323</th>\n      <td>9/30/2014 22:57:00</td>\n      <td>40.6911</td>\n      <td>-74.1773</td>\n      <td>B02764</td>\n      <td>2014-09-30</td>\n      <td>30</td>\n      <td>9</td>\n      <td>1</td>\n      <td>22:57:00</td>\n      <td>22</td>\n    </tr>\n    <tr>\n      <th>4534324</th>\n      <td>9/30/2014 22:58:00</td>\n      <td>40.8519</td>\n      <td>-73.9319</td>\n      <td>B02764</td>\n      <td>2014-09-30</td>\n      <td>30</td>\n      <td>9</td>\n      <td>1</td>\n      <td>22:58:00</td>\n      <td>22</td>\n    </tr>\n    <tr>\n      <th>4534325</th>\n      <td>9/30/2014 22:58:00</td>\n      <td>40.7081</td>\n      <td>-74.0066</td>\n      <td>B02764</td>\n      <td>2014-09-30</td>\n      <td>30</td>\n      <td>9</td>\n      <td>1</td>\n      <td>22:58:00</td>\n      <td>22</td>\n    </tr>\n    <tr>\n      <th>4534326</th>\n      <td>9/30/2014 22:58:00</td>\n      <td>40.7140</td>\n      <td>-73.9496</td>\n      <td>B02764</td>\n      <td>2014-09-30</td>\n      <td>30</td>\n      <td>9</td>\n      <td>1</td>\n      <td>22:58:00</td>\n      <td>22</td>\n    </tr>\n  </tbody>\n</table>\n<p>4534327 rows × 10 columns</p>\n</div>"
     },
     "metadata": {},
     "execution_count": 2
    }
   ],
   "source": [
    "frame['Date'] = pd.to_datetime(frame['Date/Time']).dt.date\n",
    "frame['OnlyDate'] = pd.to_datetime(frame['Date/Time']).dt.day\n",
    "frame['Month'] = pd.to_datetime(frame['Date/Time']).dt.month\n",
    "frame['DayOfTheWeek'] = pd.to_datetime(frame['Date/Time']).dt.dayofweek\n",
    "frame['Time'] = pd.to_datetime(frame['Date/Time']).dt.time\n",
    "frame['Hour'] = pd.to_datetime(frame['Date/Time']).dt.hour\n",
    "frame"
   ]
  }
 ]
}